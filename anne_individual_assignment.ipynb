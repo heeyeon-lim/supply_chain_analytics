{
 "cells": [
  {
   "cell_type": "code",
   "execution_count": 21,
   "metadata": {
    "ExecuteTime": {
     "end_time": "2024-03-06T18:59:42.828367Z",
     "start_time": "2024-03-06T18:59:42.810608700Z"
    }
   },
   "outputs": [],
   "source": [
    "import pandas as pd"
   ]
  },
  {
   "cell_type": "code",
   "execution_count": 22,
   "outputs": [
    {
     "data": {
      "text/plain": "   Product  Demand  Common_Ordering_Cost  Specific_Ordering_Cost  Unit_Cost  \\\n0        1    1000                   100                      10         50   \n1        2     300                   100                      20         60   \n2        3     100                   100                      25         30   \n3        4      50                   100                      25         30   \n\n   Holding_Cost_Rate  Holding_Cost_Per_Unit  Fixed_Ordering_Cost  \n0                0.2                   10.0                  110  \n1                0.2                   12.0                  120  \n2                0.2                    6.0                  125  \n3                0.2                    6.0                  125  ",
      "text/html": "<div>\n<style scoped>\n    .dataframe tbody tr th:only-of-type {\n        vertical-align: middle;\n    }\n\n    .dataframe tbody tr th {\n        vertical-align: top;\n    }\n\n    .dataframe thead th {\n        text-align: right;\n    }\n</style>\n<table border=\"1\" class=\"dataframe\">\n  <thead>\n    <tr style=\"text-align: right;\">\n      <th></th>\n      <th>Product</th>\n      <th>Demand</th>\n      <th>Common_Ordering_Cost</th>\n      <th>Specific_Ordering_Cost</th>\n      <th>Unit_Cost</th>\n      <th>Holding_Cost_Rate</th>\n      <th>Holding_Cost_Per_Unit</th>\n      <th>Fixed_Ordering_Cost</th>\n    </tr>\n  </thead>\n  <tbody>\n    <tr>\n      <th>0</th>\n      <td>1</td>\n      <td>1000</td>\n      <td>100</td>\n      <td>10</td>\n      <td>50</td>\n      <td>0.2</td>\n      <td>10.0</td>\n      <td>110</td>\n    </tr>\n    <tr>\n      <th>1</th>\n      <td>2</td>\n      <td>300</td>\n      <td>100</td>\n      <td>20</td>\n      <td>60</td>\n      <td>0.2</td>\n      <td>12.0</td>\n      <td>120</td>\n    </tr>\n    <tr>\n      <th>2</th>\n      <td>3</td>\n      <td>100</td>\n      <td>100</td>\n      <td>25</td>\n      <td>30</td>\n      <td>0.2</td>\n      <td>6.0</td>\n      <td>125</td>\n    </tr>\n    <tr>\n      <th>3</th>\n      <td>4</td>\n      <td>50</td>\n      <td>100</td>\n      <td>25</td>\n      <td>30</td>\n      <td>0.2</td>\n      <td>6.0</td>\n      <td>125</td>\n    </tr>\n  </tbody>\n</table>\n</div>"
     },
     "execution_count": 22,
     "metadata": {},
     "output_type": "execute_result"
    }
   ],
   "source": [
    "# Create data frame\n",
    "\n",
    "data = {\n",
    "    \"Product\": [1, 2, 3, 4],\n",
    "    \"Demand\": [1000, 300, 100, 50],\n",
    "    \"Common_Ordering_Cost\": [100, 100, 100, 100],\n",
    "    \"Specific_Ordering_Cost\": [10, 20, 25, 25],\n",
    "    \"Unit_Cost\": [50, 60, 30, 30],\n",
    "    \"Holding_Cost_Rate\": [0.2, 0.2, 0.2, 0.2]\n",
    "}\n",
    "\n",
    "df = pd.DataFrame(data)\n",
    "\n",
    "df['Holding_Cost_Per_Unit'] = df['Unit_Cost'] * df['Holding_Cost_Rate']\n",
    "df['Fixed_Ordering_Cost'] = df['Common_Ordering_Cost'] + df['Specific_Ordering_Cost']\n",
    "df"
   ],
   "metadata": {
    "collapsed": false,
    "ExecuteTime": {
     "end_time": "2024-03-06T18:59:43.619849300Z",
     "start_time": "2024-03-06T18:59:43.591169400Z"
    }
   }
  },
  {
   "cell_type": "markdown",
   "metadata": {},
   "source": [
    "# Question 1"
   ]
  },
  {
   "cell_type": "code",
   "execution_count": 23,
   "metadata": {
    "ExecuteTime": {
     "end_time": "2024-03-06T18:59:45.076902600Z",
     "start_time": "2024-03-06T18:59:45.066108300Z"
    }
   },
   "outputs": [
    {
     "data": {
      "text/plain": "   Product  Demand  Common_Ordering_Cost  Specific_Ordering_Cost  Unit_Cost  \\\n0        1    1000                   100                      10         50   \n1        2     300                   100                      20         60   \n2        3     100                   100                      25         30   \n3        4      50                   100                      25         30   \n\n   Holding_Cost_Rate  Holding_Cost_Per_Unit  Fixed_Ordering_Cost     EOQ  \\\n0                0.2                   10.0                  110  148.32   \n1                0.2                   12.0                  120   77.46   \n2                0.2                    6.0                  125   64.55   \n3                0.2                    6.0                  125   45.64   \n\n   Annual_Ordering_Cost  Annual_Holding_Cost  Total_Annual_Operational_Cost  \n0                741.64               741.60                        1483.24  \n1                464.76               464.76                         929.52  \n2                193.65               193.65                         387.30  \n3                136.94               136.92                         273.86  ",
      "text/html": "<div>\n<style scoped>\n    .dataframe tbody tr th:only-of-type {\n        vertical-align: middle;\n    }\n\n    .dataframe tbody tr th {\n        vertical-align: top;\n    }\n\n    .dataframe thead th {\n        text-align: right;\n    }\n</style>\n<table border=\"1\" class=\"dataframe\">\n  <thead>\n    <tr style=\"text-align: right;\">\n      <th></th>\n      <th>Product</th>\n      <th>Demand</th>\n      <th>Common_Ordering_Cost</th>\n      <th>Specific_Ordering_Cost</th>\n      <th>Unit_Cost</th>\n      <th>Holding_Cost_Rate</th>\n      <th>Holding_Cost_Per_Unit</th>\n      <th>Fixed_Ordering_Cost</th>\n      <th>EOQ</th>\n      <th>Annual_Ordering_Cost</th>\n      <th>Annual_Holding_Cost</th>\n      <th>Total_Annual_Operational_Cost</th>\n    </tr>\n  </thead>\n  <tbody>\n    <tr>\n      <th>0</th>\n      <td>1</td>\n      <td>1000</td>\n      <td>100</td>\n      <td>10</td>\n      <td>50</td>\n      <td>0.2</td>\n      <td>10.0</td>\n      <td>110</td>\n      <td>148.32</td>\n      <td>741.64</td>\n      <td>741.60</td>\n      <td>1483.24</td>\n    </tr>\n    <tr>\n      <th>1</th>\n      <td>2</td>\n      <td>300</td>\n      <td>100</td>\n      <td>20</td>\n      <td>60</td>\n      <td>0.2</td>\n      <td>12.0</td>\n      <td>120</td>\n      <td>77.46</td>\n      <td>464.76</td>\n      <td>464.76</td>\n      <td>929.52</td>\n    </tr>\n    <tr>\n      <th>2</th>\n      <td>3</td>\n      <td>100</td>\n      <td>100</td>\n      <td>25</td>\n      <td>30</td>\n      <td>0.2</td>\n      <td>6.0</td>\n      <td>125</td>\n      <td>64.55</td>\n      <td>193.65</td>\n      <td>193.65</td>\n      <td>387.30</td>\n    </tr>\n    <tr>\n      <th>3</th>\n      <td>4</td>\n      <td>50</td>\n      <td>100</td>\n      <td>25</td>\n      <td>30</td>\n      <td>0.2</td>\n      <td>6.0</td>\n      <td>125</td>\n      <td>45.64</td>\n      <td>136.94</td>\n      <td>136.92</td>\n      <td>273.86</td>\n    </tr>\n  </tbody>\n</table>\n</div>"
     },
     "execution_count": 23,
     "metadata": {},
     "output_type": "execute_result"
    }
   ],
   "source": [
    "# EOQ for each product\n",
    "df['EOQ'] = round(((2 * df['Demand'] * df['Fixed_Ordering_Cost']) / df['Holding_Cost_Per_Unit']) ** 0.5, 2)\n",
    "\n",
    "# Annual ordering cost for each product\n",
    "df['Annual_Ordering_Cost'] = round((df['Demand'] / df['EOQ']) * df['Fixed_Ordering_Cost'], 2)\n",
    "\n",
    "# Annual holding cost for each product\n",
    "df['Annual_Holding_Cost'] = round((df['EOQ'] / 2) * df['Holding_Cost_Per_Unit'], 2)\n",
    "\n",
    "# Total annual operational cost for each product\n",
    "df['Total_Annual_Operational_Cost'] = round(df['Annual_Ordering_Cost'] + df['Annual_Holding_Cost'],2)\n",
    "\n",
    "df"
   ]
  },
  {
   "cell_type": "code",
   "execution_count": 25,
   "metadata": {
    "ExecuteTime": {
     "end_time": "2024-03-06T18:59:57.853426200Z",
     "start_time": "2024-03-06T18:59:57.831878600Z"
    }
   },
   "outputs": [
    {
     "data": {
      "text/plain": "3073.9"
     },
     "execution_count": 25,
     "metadata": {},
     "output_type": "execute_result"
    }
   ],
   "source": [
    "round(df['Total_Annual_Operational_Cost'].sum(),1)"
   ]
  },
  {
   "cell_type": "markdown",
   "metadata": {},
   "source": [
    "# Question 2"
   ]
  },
  {
   "cell_type": "code",
   "execution_count": 26,
   "metadata": {
    "ExecuteTime": {
     "end_time": "2024-03-06T19:00:00.473084600Z",
     "start_time": "2024-03-06T19:00:00.462125300Z"
    }
   },
   "outputs": [
    {
     "data": {
      "text/plain": "6.35"
     },
     "execution_count": 26,
     "metadata": {},
     "output_type": "execute_result"
    }
   ],
   "source": [
    "# Calculate the order frequency\n",
    "s_ast = 100 + df['Specific_Ordering_Cost'].sum()\n",
    "n = 1000*10 + 300*12 + 100*6 + 50*6\n",
    "d = 2 * s_ast\n",
    "\n",
    "Order_Frequency = round((n / d) ** 0.5, 2)\n",
    "\n",
    "Order_Frequency"
   ]
  },
  {
   "cell_type": "code",
   "execution_count": 27,
   "metadata": {
    "ExecuteTime": {
     "end_time": "2024-03-06T19:00:01.345266700Z",
     "start_time": "2024-03-06T19:00:01.329977400Z"
    }
   },
   "outputs": [
    {
     "data": {
      "text/plain": "   Product  Demand  Common_Ordering_Cost  Specific_Ordering_Cost  Unit_Cost  \\\n0        1    1000                   100                      10         50   \n1        2     300                   100                      20         60   \n2        3     100                   100                      25         30   \n3        4      50                   100                      25         30   \n\n   Holding_Cost_Rate  Holding_Cost_Per_Unit  Fixed_Ordering_Cost     EOQ  \\\n0                0.2                   10.0                  110  148.32   \n1                0.2                   12.0                  120   77.46   \n2                0.2                    6.0                  125   64.55   \n3                0.2                    6.0                  125   45.64   \n\n   Annual_Ordering_Cost  Annual_Holding_Cost  Total_Annual_Operational_Cost  \\\n0                741.64               741.60                        1483.24   \n1                464.76               464.76                         929.52   \n2                193.65               193.65                         387.30   \n3                136.94               136.92                         273.86   \n\n   Optimal_Order_Size  \n0              157.48  \n1               47.24  \n2               15.75  \n3                7.87  ",
      "text/html": "<div>\n<style scoped>\n    .dataframe tbody tr th:only-of-type {\n        vertical-align: middle;\n    }\n\n    .dataframe tbody tr th {\n        vertical-align: top;\n    }\n\n    .dataframe thead th {\n        text-align: right;\n    }\n</style>\n<table border=\"1\" class=\"dataframe\">\n  <thead>\n    <tr style=\"text-align: right;\">\n      <th></th>\n      <th>Product</th>\n      <th>Demand</th>\n      <th>Common_Ordering_Cost</th>\n      <th>Specific_Ordering_Cost</th>\n      <th>Unit_Cost</th>\n      <th>Holding_Cost_Rate</th>\n      <th>Holding_Cost_Per_Unit</th>\n      <th>Fixed_Ordering_Cost</th>\n      <th>EOQ</th>\n      <th>Annual_Ordering_Cost</th>\n      <th>Annual_Holding_Cost</th>\n      <th>Total_Annual_Operational_Cost</th>\n      <th>Optimal_Order_Size</th>\n    </tr>\n  </thead>\n  <tbody>\n    <tr>\n      <th>0</th>\n      <td>1</td>\n      <td>1000</td>\n      <td>100</td>\n      <td>10</td>\n      <td>50</td>\n      <td>0.2</td>\n      <td>10.0</td>\n      <td>110</td>\n      <td>148.32</td>\n      <td>741.64</td>\n      <td>741.60</td>\n      <td>1483.24</td>\n      <td>157.48</td>\n    </tr>\n    <tr>\n      <th>1</th>\n      <td>2</td>\n      <td>300</td>\n      <td>100</td>\n      <td>20</td>\n      <td>60</td>\n      <td>0.2</td>\n      <td>12.0</td>\n      <td>120</td>\n      <td>77.46</td>\n      <td>464.76</td>\n      <td>464.76</td>\n      <td>929.52</td>\n      <td>47.24</td>\n    </tr>\n    <tr>\n      <th>2</th>\n      <td>3</td>\n      <td>100</td>\n      <td>100</td>\n      <td>25</td>\n      <td>30</td>\n      <td>0.2</td>\n      <td>6.0</td>\n      <td>125</td>\n      <td>64.55</td>\n      <td>193.65</td>\n      <td>193.65</td>\n      <td>387.30</td>\n      <td>15.75</td>\n    </tr>\n    <tr>\n      <th>3</th>\n      <td>4</td>\n      <td>50</td>\n      <td>100</td>\n      <td>25</td>\n      <td>30</td>\n      <td>0.2</td>\n      <td>6.0</td>\n      <td>125</td>\n      <td>45.64</td>\n      <td>136.94</td>\n      <td>136.92</td>\n      <td>273.86</td>\n      <td>7.87</td>\n    </tr>\n  </tbody>\n</table>\n</div>"
     },
     "execution_count": 27,
     "metadata": {},
     "output_type": "execute_result"
    }
   ],
   "source": [
    "# Calculate the optimal order size\n",
    "df['Optimal_Order_Size'] = round(df['Demand'] / Order_Frequency, 2)\n",
    "\n",
    "df"
   ]
  },
  {
   "cell_type": "code",
   "execution_count": 28,
   "metadata": {
    "ExecuteTime": {
     "end_time": "2024-03-06T19:00:02.217236600Z",
     "start_time": "2024-03-06T19:00:02.186719900Z"
    }
   },
   "outputs": [
    {
     "data": {
      "text/plain": "2284.7"
     },
     "execution_count": 28,
     "metadata": {},
     "output_type": "execute_result"
    }
   ],
   "source": [
    "# Annual order cost\n",
    "Annual_Order_Cost = Order_Frequency * s_ast\n",
    "df['Annual_Holding_Cost'] = df['Optimal_Order_Size'] * df['Holding_Cost_Per_Unit'] / 2\n",
    "\n",
    "Annual_Total_Cost = Annual_Order_Cost + df['Annual_Holding_Cost'].sum()\n",
    "\n",
    "Annual_Total_Cost"
   ]
  },
  {
   "cell_type": "markdown",
   "metadata": {},
   "source": [
    "# Question 3"
   ]
  },
  {
   "cell_type": "code",
   "execution_count": 29,
   "metadata": {
    "ExecuteTime": {
     "end_time": "2024-03-06T19:00:03.730111600Z",
     "start_time": "2024-03-06T19:00:03.687879Z"
    }
   },
   "outputs": [
    {
     "data": {
      "text/plain": "   Product  Demand  Common_Ordering_Cost  Specific_Ordering_Cost  Unit_Cost  \\\n0        1    1000                   100                      10         50   \n1        2     300                   100                      20         60   \n2        3     100                   100                      25         30   \n3        4      50                   100                      25         30   \n\n   Holding_Cost_Rate  Holding_Cost_Per_Unit  Fixed_Ordering_Cost     EOQ  \\\n0                0.2                   10.0                  110  148.32   \n1                0.2                   12.0                  120   77.46   \n2                0.2                    6.0                  125   64.55   \n3                0.2                    6.0                  125   45.64   \n\n   Annual_Ordering_Cost  Annual_Holding_Cost  Total_Annual_Operational_Cost  \\\n0                741.64               787.40                        1483.24   \n1                464.76               283.44                         929.52   \n2                193.65                47.25                         387.30   \n3                136.94                23.61                         273.86   \n\n   Optimal_Order_Size  Order_Frequency  \n0              157.48             6.74  \n1               47.24             3.87  \n2               15.75             1.55  \n3                7.87             1.10  ",
      "text/html": "<div>\n<style scoped>\n    .dataframe tbody tr th:only-of-type {\n        vertical-align: middle;\n    }\n\n    .dataframe tbody tr th {\n        vertical-align: top;\n    }\n\n    .dataframe thead th {\n        text-align: right;\n    }\n</style>\n<table border=\"1\" class=\"dataframe\">\n  <thead>\n    <tr style=\"text-align: right;\">\n      <th></th>\n      <th>Product</th>\n      <th>Demand</th>\n      <th>Common_Ordering_Cost</th>\n      <th>Specific_Ordering_Cost</th>\n      <th>Unit_Cost</th>\n      <th>Holding_Cost_Rate</th>\n      <th>Holding_Cost_Per_Unit</th>\n      <th>Fixed_Ordering_Cost</th>\n      <th>EOQ</th>\n      <th>Annual_Ordering_Cost</th>\n      <th>Annual_Holding_Cost</th>\n      <th>Total_Annual_Operational_Cost</th>\n      <th>Optimal_Order_Size</th>\n      <th>Order_Frequency</th>\n    </tr>\n  </thead>\n  <tbody>\n    <tr>\n      <th>0</th>\n      <td>1</td>\n      <td>1000</td>\n      <td>100</td>\n      <td>10</td>\n      <td>50</td>\n      <td>0.2</td>\n      <td>10.0</td>\n      <td>110</td>\n      <td>148.32</td>\n      <td>741.64</td>\n      <td>787.40</td>\n      <td>1483.24</td>\n      <td>157.48</td>\n      <td>6.74</td>\n    </tr>\n    <tr>\n      <th>1</th>\n      <td>2</td>\n      <td>300</td>\n      <td>100</td>\n      <td>20</td>\n      <td>60</td>\n      <td>0.2</td>\n      <td>12.0</td>\n      <td>120</td>\n      <td>77.46</td>\n      <td>464.76</td>\n      <td>283.44</td>\n      <td>929.52</td>\n      <td>47.24</td>\n      <td>3.87</td>\n    </tr>\n    <tr>\n      <th>2</th>\n      <td>3</td>\n      <td>100</td>\n      <td>100</td>\n      <td>25</td>\n      <td>30</td>\n      <td>0.2</td>\n      <td>6.0</td>\n      <td>125</td>\n      <td>64.55</td>\n      <td>193.65</td>\n      <td>47.25</td>\n      <td>387.30</td>\n      <td>15.75</td>\n      <td>1.55</td>\n    </tr>\n    <tr>\n      <th>3</th>\n      <td>4</td>\n      <td>50</td>\n      <td>100</td>\n      <td>25</td>\n      <td>30</td>\n      <td>0.2</td>\n      <td>6.0</td>\n      <td>125</td>\n      <td>45.64</td>\n      <td>136.94</td>\n      <td>23.61</td>\n      <td>273.86</td>\n      <td>7.87</td>\n      <td>1.10</td>\n    </tr>\n  </tbody>\n</table>\n</div>"
     },
     "execution_count": 29,
     "metadata": {},
     "output_type": "execute_result"
    }
   ],
   "source": [
    "# Most frequently ordered product\n",
    "df['Order_Frequency'] = round(df['Demand'] / df['EOQ'], 2)\n",
    "df['Order_Frequency']\n",
    "\n",
    "df"
   ]
  },
  {
   "cell_type": "code",
   "execution_count": 30,
   "metadata": {
    "ExecuteTime": {
     "end_time": "2024-03-06T19:00:04.447508800Z",
     "start_time": "2024-03-06T19:00:04.426998Z"
    }
   },
   "outputs": [
    {
     "data": {
      "text/plain": "   Product  Demand  Common_Ordering_Cost  Specific_Ordering_Cost  Unit_Cost  \\\n0        1    1000                   100                      10         50   \n1        2     300                   100                      20         60   \n2        3     100                   100                      25         30   \n3        4      50                   100                      25         30   \n\n   Holding_Cost_Rate  Holding_Cost_Per_Unit  Fixed_Ordering_Cost     EOQ  \\\n0                0.2                   10.0                  110  148.32   \n1                0.2                   12.0                  120   77.46   \n2                0.2                    6.0                  125   64.55   \n3                0.2                    6.0                  125   45.64   \n\n   Annual_Ordering_Cost  Annual_Holding_Cost  Total_Annual_Operational_Cost  \\\n0                741.64               787.40                        1483.24   \n1                464.76               283.44                         929.52   \n2                193.65                47.25                         387.30   \n3                136.94                23.61                         273.86   \n\n   Optimal_Order_Size  Order_Frequency  Order_Frequency_M  \n0              157.48             6.74                1.0  \n1               47.24             3.87                2.0  \n2               15.75             1.55                4.0  \n3                7.87             1.10                6.0  ",
      "text/html": "<div>\n<style scoped>\n    .dataframe tbody tr th:only-of-type {\n        vertical-align: middle;\n    }\n\n    .dataframe tbody tr th {\n        vertical-align: top;\n    }\n\n    .dataframe thead th {\n        text-align: right;\n    }\n</style>\n<table border=\"1\" class=\"dataframe\">\n  <thead>\n    <tr style=\"text-align: right;\">\n      <th></th>\n      <th>Product</th>\n      <th>Demand</th>\n      <th>Common_Ordering_Cost</th>\n      <th>Specific_Ordering_Cost</th>\n      <th>Unit_Cost</th>\n      <th>Holding_Cost_Rate</th>\n      <th>Holding_Cost_Per_Unit</th>\n      <th>Fixed_Ordering_Cost</th>\n      <th>EOQ</th>\n      <th>Annual_Ordering_Cost</th>\n      <th>Annual_Holding_Cost</th>\n      <th>Total_Annual_Operational_Cost</th>\n      <th>Optimal_Order_Size</th>\n      <th>Order_Frequency</th>\n      <th>Order_Frequency_M</th>\n    </tr>\n  </thead>\n  <tbody>\n    <tr>\n      <th>0</th>\n      <td>1</td>\n      <td>1000</td>\n      <td>100</td>\n      <td>10</td>\n      <td>50</td>\n      <td>0.2</td>\n      <td>10.0</td>\n      <td>110</td>\n      <td>148.32</td>\n      <td>741.64</td>\n      <td>787.40</td>\n      <td>1483.24</td>\n      <td>157.48</td>\n      <td>6.74</td>\n      <td>1.0</td>\n    </tr>\n    <tr>\n      <th>1</th>\n      <td>2</td>\n      <td>300</td>\n      <td>100</td>\n      <td>20</td>\n      <td>60</td>\n      <td>0.2</td>\n      <td>12.0</td>\n      <td>120</td>\n      <td>77.46</td>\n      <td>464.76</td>\n      <td>283.44</td>\n      <td>929.52</td>\n      <td>47.24</td>\n      <td>3.87</td>\n      <td>2.0</td>\n    </tr>\n    <tr>\n      <th>2</th>\n      <td>3</td>\n      <td>100</td>\n      <td>100</td>\n      <td>25</td>\n      <td>30</td>\n      <td>0.2</td>\n      <td>6.0</td>\n      <td>125</td>\n      <td>64.55</td>\n      <td>193.65</td>\n      <td>47.25</td>\n      <td>387.30</td>\n      <td>15.75</td>\n      <td>1.55</td>\n      <td>4.0</td>\n    </tr>\n    <tr>\n      <th>3</th>\n      <td>4</td>\n      <td>50</td>\n      <td>100</td>\n      <td>25</td>\n      <td>30</td>\n      <td>0.2</td>\n      <td>6.0</td>\n      <td>125</td>\n      <td>45.64</td>\n      <td>136.94</td>\n      <td>23.61</td>\n      <td>273.86</td>\n      <td>7.87</td>\n      <td>1.10</td>\n      <td>6.0</td>\n    </tr>\n  </tbody>\n</table>\n</div>"
     },
     "execution_count": 30,
     "metadata": {},
     "output_type": "execute_result"
    }
   ],
   "source": [
    "df['Order_Frequency_M'] = round(df['Order_Frequency'].iloc[0] / df['Order_Frequency'])\n",
    "\n",
    "df"
   ]
  },
  {
   "cell_type": "code",
   "execution_count": 31,
   "metadata": {
    "ExecuteTime": {
     "end_time": "2024-03-06T19:00:05.158925Z",
     "start_time": "2024-03-06T19:00:05.132541200Z"
    }
   },
   "outputs": [
    {
     "name": "stderr",
     "output_type": "stream",
     "text": [
      "C:\\Users\\heeye\\AppData\\Local\\Temp\\ipykernel_4556\\3258516866.py:5: SettingWithCopyWarning: \n",
      "A value is trying to be set on a copy of a slice from a DataFrame\n",
      "\n",
      "See the caveats in the documentation: https://pandas.pydata.org/pandas-docs/stable/user_guide/indexing.html#returning-a-view-versus-a-copy\n",
      "  df['Order_Frequency'].iloc[0] = round((n2 / d2) ** 0.5, 2)\n",
      "C:\\Users\\heeye\\AppData\\Local\\Temp\\ipykernel_4556\\3258516866.py:11: SettingWithCopyWarning: \n",
      "A value is trying to be set on a copy of a slice from a DataFrame\n",
      "\n",
      "See the caveats in the documentation: https://pandas.pydata.org/pandas-docs/stable/user_guide/indexing.html#returning-a-view-versus-a-copy\n",
      "  df['Order_Frequency'].iloc[1] = round((n3 / d3) ** 0.5, 2)\n",
      "C:\\Users\\heeye\\AppData\\Local\\Temp\\ipykernel_4556\\3258516866.py:17: SettingWithCopyWarning: \n",
      "A value is trying to be set on a copy of a slice from a DataFrame\n",
      "\n",
      "See the caveats in the documentation: https://pandas.pydata.org/pandas-docs/stable/user_guide/indexing.html#returning-a-view-versus-a-copy\n",
      "  df['Order_Frequency'].iloc[2] = round((n4 / d4) ** 0.5, 2)\n",
      "C:\\Users\\heeye\\AppData\\Local\\Temp\\ipykernel_4556\\3258516866.py:23: SettingWithCopyWarning: \n",
      "A value is trying to be set on a copy of a slice from a DataFrame\n",
      "\n",
      "See the caveats in the documentation: https://pandas.pydata.org/pandas-docs/stable/user_guide/indexing.html#returning-a-view-versus-a-copy\n",
      "  df['Order_Frequency'].iloc[3] = round((n5 / d5) ** 0.5, 2)\n"
     ]
    },
    {
     "data": {
      "text/plain": "   Product  Demand  Common_Ordering_Cost  Specific_Ordering_Cost  Unit_Cost  \\\n0        1    1000                   100                      10         50   \n1        2     300                   100                      20         60   \n2        3     100                   100                      25         30   \n3        4      50                   100                      25         30   \n\n   Holding_Cost_Rate  Holding_Cost_Per_Unit  Fixed_Ordering_Cost     EOQ  \\\n0                0.2                   10.0                  110  148.32   \n1                0.2                   12.0                  120   77.46   \n2                0.2                    6.0                  125   64.55   \n3                0.2                    6.0                  125   45.64   \n\n   Annual_Ordering_Cost  Annual_Holding_Cost  Total_Annual_Operational_Cost  \\\n0                741.64               787.40                        1483.24   \n1                464.76               283.44                         929.52   \n2                193.65                47.25                         387.30   \n3                136.94                23.61                         273.86   \n\n   Optimal_Order_Size  Order_Frequency  Order_Frequency_M  \n0              157.48             4.50                1.0  \n1               47.24             6.80                2.0  \n2               15.75             7.24                4.0  \n3                7.87             7.21                6.0  ",
      "text/html": "<div>\n<style scoped>\n    .dataframe tbody tr th:only-of-type {\n        vertical-align: middle;\n    }\n\n    .dataframe tbody tr th {\n        vertical-align: top;\n    }\n\n    .dataframe thead th {\n        text-align: right;\n    }\n</style>\n<table border=\"1\" class=\"dataframe\">\n  <thead>\n    <tr style=\"text-align: right;\">\n      <th></th>\n      <th>Product</th>\n      <th>Demand</th>\n      <th>Common_Ordering_Cost</th>\n      <th>Specific_Ordering_Cost</th>\n      <th>Unit_Cost</th>\n      <th>Holding_Cost_Rate</th>\n      <th>Holding_Cost_Per_Unit</th>\n      <th>Fixed_Ordering_Cost</th>\n      <th>EOQ</th>\n      <th>Annual_Ordering_Cost</th>\n      <th>Annual_Holding_Cost</th>\n      <th>Total_Annual_Operational_Cost</th>\n      <th>Optimal_Order_Size</th>\n      <th>Order_Frequency</th>\n      <th>Order_Frequency_M</th>\n    </tr>\n  </thead>\n  <tbody>\n    <tr>\n      <th>0</th>\n      <td>1</td>\n      <td>1000</td>\n      <td>100</td>\n      <td>10</td>\n      <td>50</td>\n      <td>0.2</td>\n      <td>10.0</td>\n      <td>110</td>\n      <td>148.32</td>\n      <td>741.64</td>\n      <td>787.40</td>\n      <td>1483.24</td>\n      <td>157.48</td>\n      <td>4.50</td>\n      <td>1.0</td>\n    </tr>\n    <tr>\n      <th>1</th>\n      <td>2</td>\n      <td>300</td>\n      <td>100</td>\n      <td>20</td>\n      <td>60</td>\n      <td>0.2</td>\n      <td>12.0</td>\n      <td>120</td>\n      <td>77.46</td>\n      <td>464.76</td>\n      <td>283.44</td>\n      <td>929.52</td>\n      <td>47.24</td>\n      <td>6.80</td>\n      <td>2.0</td>\n    </tr>\n    <tr>\n      <th>2</th>\n      <td>3</td>\n      <td>100</td>\n      <td>100</td>\n      <td>25</td>\n      <td>30</td>\n      <td>0.2</td>\n      <td>6.0</td>\n      <td>125</td>\n      <td>64.55</td>\n      <td>193.65</td>\n      <td>47.25</td>\n      <td>387.30</td>\n      <td>15.75</td>\n      <td>7.24</td>\n      <td>4.0</td>\n    </tr>\n    <tr>\n      <th>3</th>\n      <td>4</td>\n      <td>50</td>\n      <td>100</td>\n      <td>25</td>\n      <td>30</td>\n      <td>0.2</td>\n      <td>6.0</td>\n      <td>125</td>\n      <td>45.64</td>\n      <td>136.94</td>\n      <td>23.61</td>\n      <td>273.86</td>\n      <td>7.87</td>\n      <td>7.21</td>\n      <td>6.0</td>\n    </tr>\n  </tbody>\n</table>\n</div>"
     },
     "execution_count": 31,
     "metadata": {},
     "output_type": "execute_result"
    }
   ],
   "source": [
    "# Product1\n",
    "n2 = 12*300*1 + 6*100*2 + 6*50*3\n",
    "d2 = 2 * (100 + (20/1 + 25/2 + 25/3))\n",
    "\n",
    "df['Order_Frequency'].iloc[0] = round((n2 / d2) ** 0.5, 2)\n",
    "\n",
    "# Product2\n",
    "n3 = 10*1000*1 + 6*100*2 + 6*50*3\n",
    "d3 = 2 * (100 + (10/1 + 25/2 + 25/3))\n",
    "\n",
    "df['Order_Frequency'].iloc[1] = round((n3 / d3) ** 0.5, 2)\n",
    "\n",
    "# Product3\n",
    "n4 = 10*1000*1 + 12*300*1 + 6*50*3\n",
    "d4 = 2 * (100 + (10/1 + 20/1 + 25/3))\n",
    "\n",
    "df['Order_Frequency'].iloc[2] = round((n4 / d4) ** 0.5, 2)\n",
    "\n",
    "# Product4\n",
    "n5 = 10*1000*1 + 12*300*1 + 6*100*2\n",
    "d5 = 2 * (100 + (10/1 + 20/1 + 25/2))\n",
    "\n",
    "df['Order_Frequency'].iloc[3] = round((n5 / d5) ** 0.5, 2)\n",
    "\n",
    "df"
   ]
  },
  {
   "cell_type": "code",
   "execution_count": 32,
   "metadata": {
    "ExecuteTime": {
     "end_time": "2024-03-06T19:00:06.212591Z",
     "start_time": "2024-03-06T19:00:06.199272100Z"
    }
   },
   "outputs": [
    {
     "data": {
      "text/plain": "   Product  Demand  Common_Ordering_Cost  Specific_Ordering_Cost  Unit_Cost  \\\n0        1    1000                   100                      10         50   \n1        2     300                   100                      20         60   \n2        3     100                   100                      25         30   \n3        4      50                   100                      25         30   \n\n   Holding_Cost_Rate  Holding_Cost_Per_Unit  Fixed_Ordering_Cost     EOQ  \\\n0                0.2                   10.0                  110  148.32   \n1                0.2                   12.0                  120   77.46   \n2                0.2                    6.0                  125   64.55   \n3                0.2                    6.0                  125   45.64   \n\n   Annual_Ordering_Cost  Annual_Holding_Cost  Total_Annual_Operational_Cost  \\\n0                741.64               787.40                        1483.24   \n1                464.76               283.44                         929.52   \n2                193.65                47.25                         387.30   \n3                136.94                23.61                         273.86   \n\n   Optimal_Order_Size  Order_Frequency  Order_Frequency_M  \n0              157.48             4.50                1.0  \n1               47.24             6.80                2.0  \n2               15.75             7.24                4.0  \n3                7.87             7.21                6.0  ",
      "text/html": "<div>\n<style scoped>\n    .dataframe tbody tr th:only-of-type {\n        vertical-align: middle;\n    }\n\n    .dataframe tbody tr th {\n        vertical-align: top;\n    }\n\n    .dataframe thead th {\n        text-align: right;\n    }\n</style>\n<table border=\"1\" class=\"dataframe\">\n  <thead>\n    <tr style=\"text-align: right;\">\n      <th></th>\n      <th>Product</th>\n      <th>Demand</th>\n      <th>Common_Ordering_Cost</th>\n      <th>Specific_Ordering_Cost</th>\n      <th>Unit_Cost</th>\n      <th>Holding_Cost_Rate</th>\n      <th>Holding_Cost_Per_Unit</th>\n      <th>Fixed_Ordering_Cost</th>\n      <th>EOQ</th>\n      <th>Annual_Ordering_Cost</th>\n      <th>Annual_Holding_Cost</th>\n      <th>Total_Annual_Operational_Cost</th>\n      <th>Optimal_Order_Size</th>\n      <th>Order_Frequency</th>\n      <th>Order_Frequency_M</th>\n    </tr>\n  </thead>\n  <tbody>\n    <tr>\n      <th>0</th>\n      <td>1</td>\n      <td>1000</td>\n      <td>100</td>\n      <td>10</td>\n      <td>50</td>\n      <td>0.2</td>\n      <td>10.0</td>\n      <td>110</td>\n      <td>148.32</td>\n      <td>741.64</td>\n      <td>787.40</td>\n      <td>1483.24</td>\n      <td>157.48</td>\n      <td>4.50</td>\n      <td>1.0</td>\n    </tr>\n    <tr>\n      <th>1</th>\n      <td>2</td>\n      <td>300</td>\n      <td>100</td>\n      <td>20</td>\n      <td>60</td>\n      <td>0.2</td>\n      <td>12.0</td>\n      <td>120</td>\n      <td>77.46</td>\n      <td>464.76</td>\n      <td>283.44</td>\n      <td>929.52</td>\n      <td>47.24</td>\n      <td>6.80</td>\n      <td>2.0</td>\n    </tr>\n    <tr>\n      <th>2</th>\n      <td>3</td>\n      <td>100</td>\n      <td>100</td>\n      <td>25</td>\n      <td>30</td>\n      <td>0.2</td>\n      <td>6.0</td>\n      <td>125</td>\n      <td>64.55</td>\n      <td>193.65</td>\n      <td>47.25</td>\n      <td>387.30</td>\n      <td>15.75</td>\n      <td>7.24</td>\n      <td>4.0</td>\n    </tr>\n    <tr>\n      <th>3</th>\n      <td>4</td>\n      <td>50</td>\n      <td>100</td>\n      <td>25</td>\n      <td>30</td>\n      <td>0.2</td>\n      <td>6.0</td>\n      <td>125</td>\n      <td>45.64</td>\n      <td>136.94</td>\n      <td>23.61</td>\n      <td>273.86</td>\n      <td>7.87</td>\n      <td>7.21</td>\n      <td>6.0</td>\n    </tr>\n  </tbody>\n</table>\n</div>"
     },
     "execution_count": 32,
     "metadata": {},
     "output_type": "execute_result"
    }
   ],
   "source": [
    "# Calculate the optimal order size \n",
    "df['Optimal_Order_Size'] = round(df['Demand'] / Order_Frequency, 2)\n",
    "df"
   ]
  },
  {
   "cell_type": "code",
   "execution_count": 33,
   "metadata": {
    "ExecuteTime": {
     "end_time": "2024-03-06T19:00:07.252928900Z",
     "start_time": "2024-03-06T19:00:07.228923700Z"
    }
   },
   "outputs": [
    {
     "name": "stderr",
     "output_type": "stream",
     "text": [
      "C:\\Users\\heeye\\AppData\\Local\\Temp\\ipykernel_4556\\1271956692.py:2: SettingWithCopyWarning: \n",
      "A value is trying to be set on a copy of a slice from a DataFrame\n",
      "\n",
      "See the caveats in the documentation: https://pandas.pydata.org/pandas-docs/stable/user_guide/indexing.html#returning-a-view-versus-a-copy\n",
      "  df['Fixed_Ordering_Cost'].iloc[1] = 120\n",
      "C:\\Users\\heeye\\AppData\\Local\\Temp\\ipykernel_4556\\1271956692.py:3: SettingWithCopyWarning: \n",
      "A value is trying to be set on a copy of a slice from a DataFrame\n",
      "\n",
      "See the caveats in the documentation: https://pandas.pydata.org/pandas-docs/stable/user_guide/indexing.html#returning-a-view-versus-a-copy\n",
      "  df['Fixed_Ordering_Cost'].iloc[2] = 125\n",
      "C:\\Users\\heeye\\AppData\\Local\\Temp\\ipykernel_4556\\1271956692.py:4: SettingWithCopyWarning: \n",
      "A value is trying to be set on a copy of a slice from a DataFrame\n",
      "\n",
      "See the caveats in the documentation: https://pandas.pydata.org/pandas-docs/stable/user_guide/indexing.html#returning-a-view-versus-a-copy\n",
      "  df['Fixed_Ordering_Cost'].iloc[3] = 125\n"
     ]
    },
    {
     "data": {
      "text/plain": "   Product  Demand  Common_Ordering_Cost  Specific_Ordering_Cost  Unit_Cost  \\\n0        1    1000                   100                      10         50   \n1        2     300                   100                      20         60   \n2        3     100                   100                      25         30   \n3        4      50                   100                      25         30   \n\n   Holding_Cost_Rate  Holding_Cost_Per_Unit  Fixed_Ordering_Cost     EOQ  \\\n0                0.2                   10.0                  110  148.32   \n1                0.2                   12.0                  120   77.46   \n2                0.2                    6.0                  125   64.55   \n3                0.2                    6.0                  125   45.64   \n\n   Annual_Ordering_Cost  Annual_Holding_Cost  Total_Annual_Operational_Cost  \\\n0                741.64               787.40                        1483.24   \n1                464.76               283.44                         929.52   \n2                193.65                47.25                         387.30   \n3                136.94                23.61                         273.86   \n\n   Optimal_Order_Size  Order_Frequency  Order_Frequency_M  \n0              157.48             4.50                1.0  \n1               47.24             6.80                2.0  \n2               15.75             7.24                4.0  \n3                7.87             7.21                6.0  ",
      "text/html": "<div>\n<style scoped>\n    .dataframe tbody tr th:only-of-type {\n        vertical-align: middle;\n    }\n\n    .dataframe tbody tr th {\n        vertical-align: top;\n    }\n\n    .dataframe thead th {\n        text-align: right;\n    }\n</style>\n<table border=\"1\" class=\"dataframe\">\n  <thead>\n    <tr style=\"text-align: right;\">\n      <th></th>\n      <th>Product</th>\n      <th>Demand</th>\n      <th>Common_Ordering_Cost</th>\n      <th>Specific_Ordering_Cost</th>\n      <th>Unit_Cost</th>\n      <th>Holding_Cost_Rate</th>\n      <th>Holding_Cost_Per_Unit</th>\n      <th>Fixed_Ordering_Cost</th>\n      <th>EOQ</th>\n      <th>Annual_Ordering_Cost</th>\n      <th>Annual_Holding_Cost</th>\n      <th>Total_Annual_Operational_Cost</th>\n      <th>Optimal_Order_Size</th>\n      <th>Order_Frequency</th>\n      <th>Order_Frequency_M</th>\n    </tr>\n  </thead>\n  <tbody>\n    <tr>\n      <th>0</th>\n      <td>1</td>\n      <td>1000</td>\n      <td>100</td>\n      <td>10</td>\n      <td>50</td>\n      <td>0.2</td>\n      <td>10.0</td>\n      <td>110</td>\n      <td>148.32</td>\n      <td>741.64</td>\n      <td>787.40</td>\n      <td>1483.24</td>\n      <td>157.48</td>\n      <td>4.50</td>\n      <td>1.0</td>\n    </tr>\n    <tr>\n      <th>1</th>\n      <td>2</td>\n      <td>300</td>\n      <td>100</td>\n      <td>20</td>\n      <td>60</td>\n      <td>0.2</td>\n      <td>12.0</td>\n      <td>120</td>\n      <td>77.46</td>\n      <td>464.76</td>\n      <td>283.44</td>\n      <td>929.52</td>\n      <td>47.24</td>\n      <td>6.80</td>\n      <td>2.0</td>\n    </tr>\n    <tr>\n      <th>2</th>\n      <td>3</td>\n      <td>100</td>\n      <td>100</td>\n      <td>25</td>\n      <td>30</td>\n      <td>0.2</td>\n      <td>6.0</td>\n      <td>125</td>\n      <td>64.55</td>\n      <td>193.65</td>\n      <td>47.25</td>\n      <td>387.30</td>\n      <td>15.75</td>\n      <td>7.24</td>\n      <td>4.0</td>\n    </tr>\n    <tr>\n      <th>3</th>\n      <td>4</td>\n      <td>50</td>\n      <td>100</td>\n      <td>25</td>\n      <td>30</td>\n      <td>0.2</td>\n      <td>6.0</td>\n      <td>125</td>\n      <td>45.64</td>\n      <td>136.94</td>\n      <td>23.61</td>\n      <td>273.86</td>\n      <td>7.87</td>\n      <td>7.21</td>\n      <td>6.0</td>\n    </tr>\n  </tbody>\n</table>\n</div>"
     },
     "execution_count": 33,
     "metadata": {},
     "output_type": "execute_result"
    }
   ],
   "source": [
    "# Change 'Fixed_Ordering_Cost'\n",
    "df['Fixed_Ordering_Cost'].iloc[1] = 120\n",
    "df['Fixed_Ordering_Cost'].iloc[2] = 125\n",
    "df['Fixed_Ordering_Cost'].iloc[3] = 125\n",
    "df"
   ]
  },
  {
   "cell_type": "code",
   "execution_count": 34,
   "metadata": {
    "ExecuteTime": {
     "end_time": "2024-03-06T19:00:09.043001400Z",
     "start_time": "2024-03-06T19:00:08.974741Z"
    }
   },
   "outputs": [
    {
     "data": {
      "text/plain": "2283.4"
     },
     "execution_count": 34,
     "metadata": {},
     "output_type": "execute_result"
    }
   ],
   "source": [
    "# Annual order cost\n",
    "df['Annual_Holding_Cost'] = df['Optimal_Order_Size'] * df['Holding_Cost_Per_Unit'] / 2\n",
    "Annual_Total_Cost = df['Annual_Holding_Cost'].sum() + df['Annual_Holding_Cost'].sum()\n",
    "\n",
    "round(Annual_Total_Cost, 1)"
   ]
  }
 ],
 "metadata": {
  "kernelspec": {
   "display_name": "Python 3",
   "language": "python",
   "name": "python3"
  },
  "language_info": {
   "codemirror_mode": {
    "name": "ipython",
    "version": 3
   },
   "file_extension": ".py",
   "mimetype": "text/x-python",
   "name": "python",
   "nbconvert_exporter": "python",
   "pygments_lexer": "ipython3",
   "version": "3.10.13"
  }
 },
 "nbformat": 4,
 "nbformat_minor": 2
}
